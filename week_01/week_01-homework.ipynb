{
 "cells": [
  {
   "cell_type": "markdown",
   "id": "4e847c51-c59b-449f-af64-a49a5eae366e",
   "metadata": {},
   "source": [
    "## MLOps Zoomcamp — Week 01 Homework"
   ]
  },
  {
   "cell_type": "code",
   "execution_count": 55,
   "id": "f2f53d94-25ff-407e-a853-72efe319ec80",
   "metadata": {},
   "outputs": [],
   "source": [
    "import pandas as pd\n",
    "import seaborn as sns\n",
    "import matplotlib.pyplot as plt\n",
    "from sklearn.feature_extraction import DictVectorizer\n",
    "from sklearn.linear_model import LinearRegression, Lasso\n",
    "from sklearn.metrics import mean_squared_error"
   ]
  },
  {
   "cell_type": "code",
   "execution_count": 29,
   "id": "f6630e67-e934-4c10-b4c8-de110b2aa757",
   "metadata": {},
   "outputs": [],
   "source": [
    "df = pd.read_parquet('data/yellow_tripdata_2022-01.parquet')"
   ]
  },
  {
   "cell_type": "markdown",
   "id": "f3017d9a-c3d4-4e83-9dfe-89dfeda94bc9",
   "metadata": {},
   "source": [
    "### Question 1: Number of columns in Jan 2022 Yellow Taxi Trip data"
   ]
  },
  {
   "cell_type": "code",
   "execution_count": 30,
   "id": "1d08f9c8-1a92-43f0-8066-24577b8701d4",
   "metadata": {},
   "outputs": [
    {
     "data": {
      "text/plain": [
       "19"
      ]
     },
     "execution_count": 30,
     "metadata": {},
     "output_type": "execute_result"
    }
   ],
   "source": [
    "df.shape[1]"
   ]
  },
  {
   "cell_type": "markdown",
   "id": "76a2bbb3-da24-4670-a76a-8a8d40d80f8c",
   "metadata": {},
   "source": [
    "### Question 2:  Standard deviation of the trips duration in Jan 2022 Yellow Taxi Trip data"
   ]
  },
  {
   "cell_type": "code",
   "execution_count": 31,
   "id": "3c1ab973-a4f6-4a21-8a48-ff275713175d",
   "metadata": {},
   "outputs": [],
   "source": [
    "df['duration'] = df['tpep_dropoff_datetime'] - df['tpep_pickup_datetime']"
   ]
  },
  {
   "cell_type": "code",
   "execution_count": 32,
   "id": "053660cb-82df-44e7-afd3-5e31189ada26",
   "metadata": {},
   "outputs": [],
   "source": [
    "df['duration'] = df['duration'].apply(lambda x: x.total_seconds()/60)"
   ]
  },
  {
   "cell_type": "code",
   "execution_count": 33,
   "id": "a849d0df-ce67-4a94-bbb3-b3c0c33fe19a",
   "metadata": {},
   "outputs": [
    {
     "data": {
      "text/plain": [
       "46.44530513776499"
      ]
     },
     "execution_count": 33,
     "metadata": {},
     "output_type": "execute_result"
    }
   ],
   "source": [
    "df['duration'].std()"
   ]
  },
  {
   "cell_type": "markdown",
   "id": "566c9e4b-ff20-4a9b-841e-a4b7589f5016",
   "metadata": {},
   "source": [
    "### Question 3: Fraction of the records left after dropping the outliers"
   ]
  },
  {
   "cell_type": "code",
   "execution_count": 34,
   "id": "1d6450b9-02d6-4146-90af-550eb0e5a779",
   "metadata": {},
   "outputs": [
    {
     "data": {
      "text/plain": [
       "0.9827547930522406"
      ]
     },
     "execution_count": 34,
     "metadata": {},
     "output_type": "execute_result"
    }
   ],
   "source": [
    "((df['duration'] >= 1) & (df['duration'] <= 60)).sum()/len(df['duration'])"
   ]
  },
  {
   "cell_type": "code",
   "execution_count": 35,
   "id": "8f93ce19-b5de-4fea-ae98-a265b2f448f8",
   "metadata": {},
   "outputs": [],
   "source": [
    "df = df[(df['duration'] >= 1) & (df['duration'] <= 60)]"
   ]
  },
  {
   "cell_type": "markdown",
   "id": "9ada6c5e-3a90-4b90-b362-55dec13d1324",
   "metadata": {},
   "source": [
    "### Question 4: Dimensionality after OHE"
   ]
  },
  {
   "cell_type": "code",
   "execution_count": 36,
   "id": "804aa369-a7ef-41a1-848f-07336ec68c1b",
   "metadata": {},
   "outputs": [],
   "source": [
    "X_train = df[['PULocationID', 'DOLocationID']]\n",
    "y_train = df['duration']"
   ]
  },
  {
   "cell_type": "code",
   "execution_count": 37,
   "id": "74a2e3bb-ec19-4c1c-bf26-64066df18c12",
   "metadata": {},
   "outputs": [],
   "source": [
    "X_train = X_train.astype(str).to_dict(orient='records')"
   ]
  },
  {
   "cell_type": "code",
   "execution_count": 38,
   "id": "9f7eef7c-010d-4973-adc5-b7b3b8057fac",
   "metadata": {},
   "outputs": [],
   "source": [
    "dv = DictVectorizer()"
   ]
  },
  {
   "cell_type": "code",
   "execution_count": 39,
   "id": "04011b71-5ba1-47c6-b55a-f9c5b82577d1",
   "metadata": {},
   "outputs": [],
   "source": [
    "X_train_fe = dv.fit_transform(X_train)"
   ]
  },
  {
   "cell_type": "code",
   "execution_count": 40,
   "id": "12ca19d5-cd28-4768-a5ea-46f4148c1686",
   "metadata": {},
   "outputs": [
    {
     "data": {
      "text/plain": [
       "(2421440, 515)"
      ]
     },
     "execution_count": 40,
     "metadata": {},
     "output_type": "execute_result"
    }
   ],
   "source": [
    "X_train_fe.shape"
   ]
  },
  {
   "cell_type": "markdown",
   "id": "194f2cef-6dbe-4456-b0f9-43e25f9bd7a1",
   "metadata": {},
   "source": [
    "### Question 5: RMSE on train"
   ]
  },
  {
   "cell_type": "code",
   "execution_count": 41,
   "id": "8cdf80ee-eea9-4c5d-a0ff-2924581b74dc",
   "metadata": {},
   "outputs": [],
   "source": [
    "lr = LinearRegression()"
   ]
  },
  {
   "cell_type": "code",
   "execution_count": 42,
   "id": "c1df8420-e9a7-4754-a38f-aeeda4a76354",
   "metadata": {},
   "outputs": [
    {
     "data": {
      "text/html": [
       "<style>#sk-container-id-2 {color: black;background-color: white;}#sk-container-id-2 pre{padding: 0;}#sk-container-id-2 div.sk-toggleable {background-color: white;}#sk-container-id-2 label.sk-toggleable__label {cursor: pointer;display: block;width: 100%;margin-bottom: 0;padding: 0.3em;box-sizing: border-box;text-align: center;}#sk-container-id-2 label.sk-toggleable__label-arrow:before {content: \"▸\";float: left;margin-right: 0.25em;color: #696969;}#sk-container-id-2 label.sk-toggleable__label-arrow:hover:before {color: black;}#sk-container-id-2 div.sk-estimator:hover label.sk-toggleable__label-arrow:before {color: black;}#sk-container-id-2 div.sk-toggleable__content {max-height: 0;max-width: 0;overflow: hidden;text-align: left;background-color: #f0f8ff;}#sk-container-id-2 div.sk-toggleable__content pre {margin: 0.2em;color: black;border-radius: 0.25em;background-color: #f0f8ff;}#sk-container-id-2 input.sk-toggleable__control:checked~div.sk-toggleable__content {max-height: 200px;max-width: 100%;overflow: auto;}#sk-container-id-2 input.sk-toggleable__control:checked~label.sk-toggleable__label-arrow:before {content: \"▾\";}#sk-container-id-2 div.sk-estimator input.sk-toggleable__control:checked~label.sk-toggleable__label {background-color: #d4ebff;}#sk-container-id-2 div.sk-label input.sk-toggleable__control:checked~label.sk-toggleable__label {background-color: #d4ebff;}#sk-container-id-2 input.sk-hidden--visually {border: 0;clip: rect(1px 1px 1px 1px);clip: rect(1px, 1px, 1px, 1px);height: 1px;margin: -1px;overflow: hidden;padding: 0;position: absolute;width: 1px;}#sk-container-id-2 div.sk-estimator {font-family: monospace;background-color: #f0f8ff;border: 1px dotted black;border-radius: 0.25em;box-sizing: border-box;margin-bottom: 0.5em;}#sk-container-id-2 div.sk-estimator:hover {background-color: #d4ebff;}#sk-container-id-2 div.sk-parallel-item::after {content: \"\";width: 100%;border-bottom: 1px solid gray;flex-grow: 1;}#sk-container-id-2 div.sk-label:hover label.sk-toggleable__label {background-color: #d4ebff;}#sk-container-id-2 div.sk-serial::before {content: \"\";position: absolute;border-left: 1px solid gray;box-sizing: border-box;top: 0;bottom: 0;left: 50%;z-index: 0;}#sk-container-id-2 div.sk-serial {display: flex;flex-direction: column;align-items: center;background-color: white;padding-right: 0.2em;padding-left: 0.2em;position: relative;}#sk-container-id-2 div.sk-item {position: relative;z-index: 1;}#sk-container-id-2 div.sk-parallel {display: flex;align-items: stretch;justify-content: center;background-color: white;position: relative;}#sk-container-id-2 div.sk-item::before, #sk-container-id-2 div.sk-parallel-item::before {content: \"\";position: absolute;border-left: 1px solid gray;box-sizing: border-box;top: 0;bottom: 0;left: 50%;z-index: -1;}#sk-container-id-2 div.sk-parallel-item {display: flex;flex-direction: column;z-index: 1;position: relative;background-color: white;}#sk-container-id-2 div.sk-parallel-item:first-child::after {align-self: flex-end;width: 50%;}#sk-container-id-2 div.sk-parallel-item:last-child::after {align-self: flex-start;width: 50%;}#sk-container-id-2 div.sk-parallel-item:only-child::after {width: 0;}#sk-container-id-2 div.sk-dashed-wrapped {border: 1px dashed gray;margin: 0 0.4em 0.5em 0.4em;box-sizing: border-box;padding-bottom: 0.4em;background-color: white;}#sk-container-id-2 div.sk-label label {font-family: monospace;font-weight: bold;display: inline-block;line-height: 1.2em;}#sk-container-id-2 div.sk-label-container {text-align: center;}#sk-container-id-2 div.sk-container {/* jupyter's `normalize.less` sets `[hidden] { display: none; }` but bootstrap.min.css set `[hidden] { display: none !important; }` so we also need the `!important` here to be able to override the default hidden behavior on the sphinx rendered scikit-learn.org. See: https://github.com/scikit-learn/scikit-learn/issues/21755 */display: inline-block !important;position: relative;}#sk-container-id-2 div.sk-text-repr-fallback {display: none;}</style><div id=\"sk-container-id-2\" class=\"sk-top-container\"><div class=\"sk-text-repr-fallback\"><pre>LinearRegression()</pre><b>In a Jupyter environment, please rerun this cell to show the HTML representation or trust the notebook. <br />On GitHub, the HTML representation is unable to render, please try loading this page with nbviewer.org.</b></div><div class=\"sk-container\" hidden><div class=\"sk-item\"><div class=\"sk-estimator sk-toggleable\"><input class=\"sk-toggleable__control sk-hidden--visually\" id=\"sk-estimator-id-2\" type=\"checkbox\" checked><label for=\"sk-estimator-id-2\" class=\"sk-toggleable__label sk-toggleable__label-arrow\">LinearRegression</label><div class=\"sk-toggleable__content\"><pre>LinearRegression()</pre></div></div></div></div></div>"
      ],
      "text/plain": [
       "LinearRegression()"
      ]
     },
     "execution_count": 42,
     "metadata": {},
     "output_type": "execute_result"
    }
   ],
   "source": [
    "lr.fit(X_train_fe, y_train)"
   ]
  },
  {
   "cell_type": "code",
   "execution_count": 43,
   "id": "2cd4f760-af1c-4a84-b727-f88086024439",
   "metadata": {},
   "outputs": [
    {
     "data": {
      "text/plain": [
       "6.9861901359876795"
      ]
     },
     "execution_count": 43,
     "metadata": {},
     "output_type": "execute_result"
    }
   ],
   "source": [
    "mean_squared_error(y_train, lr.predict(X_train_fe), squared=False)"
   ]
  },
  {
   "cell_type": "code",
   "execution_count": 44,
   "id": "ad8f1ccd-5de6-464c-a6e1-c7bb033375d0",
   "metadata": {},
   "outputs": [],
   "source": [
    "y_pred = lr.predict(X_train_fe)"
   ]
  },
  {
   "cell_type": "code",
   "execution_count": 45,
   "id": "be10ba4d-5239-499d-b9d3-64f8f1961974",
   "metadata": {},
   "outputs": [
    {
     "name": "stderr",
     "output_type": "stream",
     "text": [
      "/Users/marija/anaconda3/lib/python3.8/site-packages/seaborn/distributions.py:2551: FutureWarning: `distplot` is a deprecated function and will be removed in a future version. Please adapt your code to use either `displot` (a figure-level function with similar flexibility) or `histplot` (an axes-level function for histograms).\n",
      "  warnings.warn(msg, FutureWarning)\n",
      "/Users/marija/anaconda3/lib/python3.8/site-packages/seaborn/distributions.py:2551: FutureWarning: `distplot` is a deprecated function and will be removed in a future version. Please adapt your code to use either `displot` (a figure-level function with similar flexibility) or `histplot` (an axes-level function for histograms).\n",
      "  warnings.warn(msg, FutureWarning)\n"
     ]
    },
    {
     "data": {
      "text/plain": [
       "<AxesSubplot:xlabel='duration', ylabel='Density'>"
      ]
     },
     "execution_count": 45,
     "metadata": {},
     "output_type": "execute_result"
    },
    {
     "data": {
      "image/png": "[encoded data removed]",
      "text/plain": [
       "<Figure size 432x288 with 1 Axes>"
      ]
     },
     "metadata": {
      "needs_background": "light"
     },
     "output_type": "display_data"
    }
   ],
   "source": [
    "sns.distplot(y_train, label='true')\n",
    "sns.distplot(y_pred, label='prediction')"
   ]
  },
  {
   "cell_type": "markdown",
   "id": "f6ae1008-c74d-43a4-9c07-981e2779b556",
   "metadata": {},
   "source": [
    "### Question 6: RMSE on validation"
   ]
  },
  {
   "cell_type": "code",
   "execution_count": 46,
   "id": "2dae0696-72ba-42f7-993a-8f06400dca63",
   "metadata": {},
   "outputs": [],
   "source": [
    "df_test = pd.read_parquet('data/yellow_tripdata_2022-02.parquet')"
   ]
  },
  {
   "cell_type": "code",
   "execution_count": 47,
   "id": "8f5719fc-8f47-46a4-aef1-d7f807ac1664",
   "metadata": {},
   "outputs": [],
   "source": [
    "df_test['duration'] = (df_test['tpep_dropoff_datetime'] - df_test['tpep_pickup_datetime']).apply(lambda x: x.total_seconds()/60)"
   ]
  },
  {
   "cell_type": "code",
   "execution_count": 48,
   "id": "c2aed613-80ea-43c7-b520-04842825f49d",
   "metadata": {},
   "outputs": [],
   "source": [
    "df_test = df_test[(df_test['duration'] >= 1) & (df_test['duration'] <= 60)]"
   ]
  },
  {
   "cell_type": "code",
   "execution_count": 49,
   "id": "2fe884d0-a633-420c-b7b7-773bc4622592",
   "metadata": {},
   "outputs": [],
   "source": [
    "X_test = df_test[['PULocationID', 'DOLocationID']]\n",
    "y_test = df_test['duration']"
   ]
  },
  {
   "cell_type": "code",
   "execution_count": 50,
   "id": "e79dd88f-537c-4949-9ff7-d054f605fde1",
   "metadata": {},
   "outputs": [],
   "source": [
    "X_test = X_test.astype(str).to_dict(orient='records')"
   ]
  },
  {
   "cell_type": "code",
   "execution_count": 51,
   "id": "5053070a-7506-4950-a13a-a0c559b12d12",
   "metadata": {},
   "outputs": [],
   "source": [
    "X_test_fe = dv.transform(X_test)"
   ]
  },
  {
   "cell_type": "code",
   "execution_count": 52,
   "id": "2acd7fb9-fe49-4bb5-ab0b-0c5f532b4619",
   "metadata": {},
   "outputs": [
    {
     "data": {
      "text/plain": [
       "7.78638951042692"
      ]
     },
     "execution_count": 52,
     "metadata": {},
     "output_type": "execute_result"
    }
   ],
   "source": [
    "mean_squared_error(y_test, lr.predict(X_test_fe), squared=False)"
   ]
  },
  {
   "cell_type": "code",
   "execution_count": 53,
   "id": "52449a8c-495c-449c-882e-f2e5068be351",
   "metadata": {},
   "outputs": [],
   "source": [
    "y_pred = lr.predict(X_test_fe)"
   ]
  },
  {
   "cell_type": "code",
   "execution_count": 54,
   "id": "e2a28cd7-4551-486a-8281-8a4e29f276b2",
   "metadata": {},
   "outputs": [
    {
     "name": "stderr",
     "output_type": "stream",
     "text": [
      "/Users/marija/anaconda3/lib/python3.8/site-packages/seaborn/distributions.py:2551: FutureWarning: `distplot` is a deprecated function and will be removed in a future version. Please adapt your code to use either `displot` (a figure-level function with similar flexibility) or `histplot` (an axes-level function for histograms).\n",
      "  warnings.warn(msg, FutureWarning)\n",
      "/Users/marija/anaconda3/lib/python3.8/site-packages/seaborn/distributions.py:2551: FutureWarning: `distplot` is a deprecated function and will be removed in a future version. Please adapt your code to use either `displot` (a figure-level function with similar flexibility) or `histplot` (an axes-level function for histograms).\n",
      "  warnings.warn(msg, FutureWarning)\n"
     ]
    },
    {
     "data": {
      "text/plain": [
       "<AxesSubplot:xlabel='duration', ylabel='Density'>"
      ]
     },
     "execution_count": 54,
     "metadata": {},
     "output_type": "execute_result"
    },
    {
     "data": {
      "image/png": "[encoded data removed]",
      "text/plain": [
       "<Figure size 432x288 with 1 Axes>"
      ]
     },
     "metadata": {
      "needs_background": "light"
     },
     "output_type": "display_data"
    }
   ],
   "source": [
    "sns.distplot(y_test, label='true')\n",
    "sns.distplot(y_pred, label='prediction')"
   ]
  },
  {
   "cell_type": "code",
   "execution_count": null,
   "id": "b4cb6dd5-7fde-4aeb-9ad5-1745d7be92e1",
   "metadata": {},
   "outputs": [],
   "source": []
  }
 ],
 "metadata": {
  "kernelspec": {
   "display_name": "Python 3.8.5 64-bit ('anaconda3': virtualenv)",
   "language": "python",
   "name": "python385jvsc74a57bd086a6e36cae497197777c70e82ebac18f44667011d85d4dfa35cc8da0e057b101"
  },
  "language_info": {
   "codemirror_mode": {
    "name": "ipython",
    "version": 3
   },
   "file_extension": ".py",
   "mimetype": "text/x-python",
   "name": "python",
   "nbconvert_exporter": "python",
   "pygments_lexer": "ipython3",
   "version": "3.8.5"
  }
 },
 "nbformat": 4,
 "nbformat_minor": 5
}
