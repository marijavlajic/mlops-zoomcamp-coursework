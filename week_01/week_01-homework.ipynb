{
 "cells": [
  {
   "cell_type": "markdown",
   "id": "4e847c51-c59b-449f-af64-a49a5eae366e",
   "metadata": {},
   "source": [
    "### MLOps Zoomcamp — Week 01 Homework"
   ]
  },
  {
   "cell_type": "code",
   "execution_count": 1,
   "id": "f2f53d94-25ff-407e-a853-72efe319ec80",
   "metadata": {},
   "outputs": [],
   "source": [
    "import pandas as pd\n",
    "from sklearn.feature_extraction import DictVectorizer\n",
    "from sklearn.linear_model import LinearRegression, Lasso\n",
    "from sklearn.metrics import mean_squared_error"
   ]
  },
  {
   "cell_type": "code",
   "execution_count": 2,
   "id": "f6630e67-e934-4c10-b4c8-de110b2aa757",
   "metadata": {},
   "outputs": [],
   "source": [
    "df = pd.read_parquet('data/yellow_tripdata_2022-01.parquet')"
   ]
  },
  {
   "cell_type": "markdown",
   "id": "f3017d9a-c3d4-4e83-9dfe-89dfeda94bc9",
   "metadata": {},
   "source": [
    "### Question 1: Number of columns in Jan 2022 Yellow Taxi Trip data"
   ]
  },
  {
   "cell_type": "code",
   "execution_count": 3,
   "id": "1d08f9c8-1a92-43f0-8066-24577b8701d4",
   "metadata": {},
   "outputs": [
    {
     "data": {
      "text/plain": [
       "19"
      ]
     },
     "execution_count": 3,
     "metadata": {},
     "output_type": "execute_result"
    }
   ],
   "source": [
    "df.shape[1]"
   ]
  },
  {
   "cell_type": "markdown",
   "id": "76a2bbb3-da24-4670-a76a-8a8d40d80f8c",
   "metadata": {},
   "source": [
    "### Question 2:  Standard deviation of the trips duration in Jan 2022 Yellow Taxi Trip data"
   ]
  },
  {
   "cell_type": "code",
   "execution_count": 4,
   "id": "3c1ab973-a4f6-4a21-8a48-ff275713175d",
   "metadata": {},
   "outputs": [],
   "source": [
    "df['duration'] = df['tpep_dropoff_datetime'] - df['tpep_pickup_datetime']"
   ]
  },
  {
   "cell_type": "code",
   "execution_count": 5,
   "id": "053660cb-82df-44e7-afd3-5e31189ada26",
   "metadata": {},
   "outputs": [],
   "source": [
    "df['duration'] = df['duration'].apply(lambda x: x.total_seconds()/60)"
   ]
  },
  {
   "cell_type": "code",
   "execution_count": 6,
   "id": "a849d0df-ce67-4a94-bbb3-b3c0c33fe19a",
   "metadata": {},
   "outputs": [
    {
     "data": {
      "text/plain": [
       "46.44530513776499"
      ]
     },
     "execution_count": 6,
     "metadata": {},
     "output_type": "execute_result"
    }
   ],
   "source": [
    "df['duration'].std()"
   ]
  },
  {
   "cell_type": "markdown",
   "id": "566c9e4b-ff20-4a9b-841e-a4b7589f5016",
   "metadata": {},
   "source": [
    "### Question 3: Fraction of the records left after dropping the outliers"
   ]
  },
  {
   "cell_type": "code",
   "execution_count": 7,
   "id": "1d6450b9-02d6-4146-90af-550eb0e5a779",
   "metadata": {},
   "outputs": [
    {
     "data": {
      "text/plain": [
       "0.9827547930522406"
      ]
     },
     "execution_count": 7,
     "metadata": {},
     "output_type": "execute_result"
    }
   ],
   "source": [
    "((df['duration'] >= 1) & (df['duration'] <= 60)).sum()/len(df['duration'])"
   ]
  },
  {
   "cell_type": "code",
   "execution_count": 8,
   "id": "8f93ce19-b5de-4fea-ae98-a265b2f448f8",
   "metadata": {},
   "outputs": [],
   "source": [
    "df = df[(df['duration'] >= 1) & (df['duration'] <= 60)]"
   ]
  },
  {
   "cell_type": "markdown",
   "id": "9ada6c5e-3a90-4b90-b362-55dec13d1324",
   "metadata": {},
   "source": [
    "### Question 4: Dimensionality after OHE"
   ]
  },
  {
   "cell_type": "code",
   "execution_count": 9,
   "id": "804aa369-a7ef-41a1-848f-07336ec68c1b",
   "metadata": {},
   "outputs": [],
   "source": [
    "X_train = df[['PULocationID', 'DOLocationID']]\n",
    "y_train = df['duration']"
   ]
  },
  {
   "cell_type": "code",
   "execution_count": 10,
   "id": "74a2e3bb-ec19-4c1c-bf26-64066df18c12",
   "metadata": {},
   "outputs": [],
   "source": [
    "X_train = X_train.astype(str).to_dict(orient='records')"
   ]
  },
  {
   "cell_type": "code",
   "execution_count": 11,
   "id": "9f7eef7c-010d-4973-adc5-b7b3b8057fac",
   "metadata": {},
   "outputs": [],
   "source": [
    "dv = DictVectorizer()"
   ]
  },
  {
   "cell_type": "code",
   "execution_count": 12,
   "id": "04011b71-5ba1-47c6-b55a-f9c5b82577d1",
   "metadata": {},
   "outputs": [],
   "source": [
    "X_train_fe = dv.fit_transform(X_train)"
   ]
  },
  {
   "cell_type": "code",
   "execution_count": 13,
   "id": "12ca19d5-cd28-4768-a5ea-46f4148c1686",
   "metadata": {},
   "outputs": [
    {
     "data": {
      "text/plain": [
       "(2421440, 515)"
      ]
     },
     "execution_count": 13,
     "metadata": {},
     "output_type": "execute_result"
    }
   ],
   "source": [
    "X_train_fe.shape"
   ]
  },
  {
   "cell_type": "markdown",
   "id": "194f2cef-6dbe-4456-b0f9-43e25f9bd7a1",
   "metadata": {},
   "source": [
    "### Question 5: RMSE on train"
   ]
  },
  {
   "cell_type": "code",
   "execution_count": 14,
   "id": "8cdf80ee-eea9-4c5d-a0ff-2924581b74dc",
   "metadata": {},
   "outputs": [],
   "source": [
    "lr = LinearRegression()"
   ]
  },
  {
   "cell_type": "code",
   "execution_count": null,
   "id": "c1df8420-e9a7-4754-a38f-aeeda4a76354",
   "metadata": {},
   "outputs": [],
   "source": [
    "lr.fit(X_train_fe, y_train)"
   ]
  },
  {
   "cell_type": "code",
   "execution_count": null,
   "id": "2cd4f760-af1c-4a84-b727-f88086024439",
   "metadata": {},
   "outputs": [],
   "source": [
    "mean_squared_error(y_train, lr.predict(X_train_fe), squared=False)"
   ]
  },
  {
   "cell_type": "markdown",
   "id": "f6ae1008-c74d-43a4-9c07-981e2779b556",
   "metadata": {},
   "source": [
    "### Question 6: RMSE on validation"
   ]
  },
  {
   "cell_type": "code",
   "execution_count": null,
   "id": "2dae0696-72ba-42f7-993a-8f06400dca63",
   "metadata": {},
   "outputs": [],
   "source": [
    "df_test = pd.read_parquet('data/yellow_tripdata_2022-02.parquet')"
   ]
  },
  {
   "cell_type": "code",
   "execution_count": null,
   "id": "8f5719fc-8f47-46a4-aef1-d7f807ac1664",
   "metadata": {},
   "outputs": [],
   "source": [
    "df_test['duration'] = (df_test['tpep_dropoff_datetime'] - df_test['tpep_pickup_datetime']).apply(lambda x: x.total_seconds()/60)"
   ]
  },
  {
   "cell_type": "code",
   "execution_count": null,
   "id": "c2aed613-80ea-43c7-b520-04842825f49d",
   "metadata": {},
   "outputs": [],
   "source": [
    "df_test = df_test[(df_test['duration'] >= 1) & (df_test['duration'] <= 60)]"
   ]
  },
  {
   "cell_type": "code",
   "execution_count": null,
   "id": "2fe884d0-a633-420c-b7b7-773bc4622592",
   "metadata": {},
   "outputs": [],
   "source": [
    "X_test = df_test[['PULocationID', 'DOLocationID']]\n",
    "y_test = df_test['duration']"
   ]
  },
  {
   "cell_type": "code",
   "execution_count": null,
   "id": "e79dd88f-537c-4949-9ff7-d054f605fde1",
   "metadata": {},
   "outputs": [],
   "source": [
    "X_test = X_test.astype(str).to_dict(orient='records')"
   ]
  },
  {
   "cell_type": "code",
   "execution_count": null,
   "id": "5053070a-7506-4950-a13a-a0c559b12d12",
   "metadata": {},
   "outputs": [],
   "source": [
    "X_test_fe = dv.transform(X_test)"
   ]
  },
  {
   "cell_type": "code",
   "execution_count": null,
   "id": "2acd7fb9-fe49-4bb5-ab0b-0c5f532b4619",
   "metadata": {},
   "outputs": [],
   "source": [
    "mean_squared_error(y_test, lr.predict(X_test_fe), squared=False)"
   ]
  }
 ],
 "metadata": {
  "kernelspec": {
   "display_name": "Python 3.8.5 64-bit ('anaconda3': virtualenv)",
   "language": "python",
   "name": "python385jvsc74a57bd086a6e36cae497197777c70e82ebac18f44667011d85d4dfa35cc8da0e057b101"
  },
  "language_info": {
   "codemirror_mode": {
    "name": "ipython",
    "version": 3
   },
   "file_extension": ".py",
   "mimetype": "text/x-python",
   "name": "python",
   "nbconvert_exporter": "python",
   "pygments_lexer": "ipython3",
   "version": "3.8.5"
  }
 },
 "nbformat": 4,
 "nbformat_minor": 5
}
