{
 "cells": [
  {
   "cell_type": "markdown",
   "id": "c44a1873-8c85-4f15-b16a-13d7f571d533",
   "metadata": {},
   "source": [
    "## MLOps Zoomcamp — Week 02 Homework"
   ]
  },
  {
   "cell_type": "code",
   "execution_count": 1,
   "id": "02a4f81a-925c-4f24-b7ae-86db4b4ed607",
   "metadata": {},
   "outputs": [],
   "source": [
    "import mlflow"
   ]
  },
  {
   "cell_type": "markdown",
   "id": "871cb31f-6655-4824-a4dc-077da7182fc6",
   "metadata": {},
   "source": [
    "### Question 1: Version of MLflow"
   ]
  },
  {
   "cell_type": "code",
   "execution_count": 2,
   "id": "1077f418-ab8a-4227-8a25-a32aba1c08cb",
   "metadata": {},
   "outputs": [
    {
     "data": {
      "text/plain": [
       "'2.3.2'"
      ]
     },
     "execution_count": 2,
     "metadata": {},
     "output_type": "execute_result"
    }
   ],
   "source": [
    "mlflow.__version__"
   ]
  },
  {
   "cell_type": "markdown",
   "id": "0c12e6d0-9e08-4dca-8df7-94872c9e765a",
   "metadata": {},
   "source": [
    "### Q2. Download and preprocess the data"
   ]
  },
  {
   "cell_type": "markdown",
   "id": "4361f74a-9352-4f20-a90e-36454b66a48f",
   "metadata": {},
   "source": [
    "Size of `dv.pkl` is 150K"
   ]
  },
  {
   "cell_type": "markdown",
   "id": "cdbac791-e696-44c8-a391-c7e9ffff5794",
   "metadata": {},
   "source": []
  },
  {
   "cell_type": "code",
   "execution_count": 3,
   "id": "22b25f71-f17b-4627-b27c-7d652748128d",
   "metadata": {},
   "outputs": [
    {
     "data": {
      "text/plain": [
       "'24d13247e3649aa551cb9c86ab78cb910c1d46a5'"
      ]
     },
     "execution_count": 3,
     "metadata": {},
     "output_type": "execute_result"
    }
   ],
   "source": [
    "from hashlib import sha1\n",
    "\n",
    "def compute_hash(email):\n",
    "    return sha1(email.lower().encode('utf-8')).hexdigest()\n",
    "\n",
    "compute_hash('marija@vlajic.net')"
   ]
  },
  {
   "cell_type": "code",
   "execution_count": null,
   "id": "d2f2004a-7b42-4997-b3fe-027dda3a24f6",
   "metadata": {},
   "outputs": [],
   "source": []
  }
 ],
 "metadata": {
  "kernelspec": {
   "display_name": "Python 3.9.16 64-bit ('exp-tracking': conda)",
   "language": "python",
   "name": "python3916jvsc74a57bd0404f7cfc0571f7d7d6fdc9407db50b6a781863ba92e0943473f568836e048278"
  },
  "language_info": {
   "codemirror_mode": {
    "name": "ipython",
    "version": 3
   },
   "file_extension": ".py",
   "mimetype": "text/x-python",
   "name": "python",
   "nbconvert_exporter": "python",
   "pygments_lexer": "ipython3",
   "version": "3.9.16"
  }
 },
 "nbformat": 4,
 "nbformat_minor": 5
}
